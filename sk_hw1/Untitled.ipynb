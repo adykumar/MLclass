{
 "cells": [
  {
   "cell_type": "code",
   "execution_count": 2,
   "metadata": {
    "collapsed": false
   },
   "outputs": [
    {
     "ename": "SyntaxError",
     "evalue": "invalid syntax (<ipython-input-2-a36221fb0ff4>, line 1)",
     "output_type": "error",
     "traceback": [
      "\u001b[0;36m  File \u001b[0;32m\"<ipython-input-2-a36221fb0ff4>\"\u001b[0;36m, line \u001b[0;32m1\u001b[0m\n\u001b[0;31m    Jupyter Notebook1.py Last Saturday at 3:07 AM\u001b[0m\n\u001b[0m                    ^\u001b[0m\n\u001b[0;31mSyntaxError\u001b[0m\u001b[0;31m:\u001b[0m invalid syntax\n"
     ]
    }
   ],
   "source": [
    "Jupyter Notebook1.py Last Saturday at 3:07 AM\n",
    "Python\n",
    "File\n",
    "Edit\n",
    "View\n",
    "Language\n",
    "\n",
    "1\n",
    "import numpy as np\n",
    "2\n",
    "import matplotlib.pyplot as plt\n",
    "3\n",
    "iris = np.genfromtxt(\"data/iris.txt\",delimiter=None) # load the text file\n",
    "4\n",
    "Y = iris[:,-1] # target value is the last column\n",
    "5\n",
    "X = iris[:,0:-1] # features are the other columns\n",
    "6\n",
    "​\n",
    "7\n",
    "Xpart = X[:5]\n",
    "8\n",
    "​\n",
    "9\n",
    "''' 1a '''\n",
    "10\n",
    "print \"Data Points:\",X.shape[0]\n",
    "11\n",
    "print \"Features:\",X.shape[1]\n",
    "12\n",
    "#print X\n",
    "13\n",
    "​\n",
    "14\n",
    "''' 1b '''\n",
    "15\n",
    "#plt.hist(X)\n",
    "16\n",
    "#plt.show()\n",
    "17\n",
    "​\n",
    "18\n",
    "print Xpart\n",
    "19\n",
    "​\n",
    "20\n",
    "'''1c '''\n",
    "21\n",
    "a= np.array(X)\n",
    "22\n",
    "xmean= np.mean(a, axis=0)\n",
    "23\n",
    "print \"xmean\",xmean\n",
    "24\n",
    "​\n",
    "25\n",
    "'''1d'''\n",
    "26\n",
    "xvar= np.var(a, axis=0)\n",
    "27\n",
    "print \"xvar\",xvar\n",
    "28\n",
    "xstd= np.std(a, axis=0)\n",
    "29\n",
    "print \"xstd\",xstd\n",
    "30\n",
    "​\n",
    "31\n",
    "'''1e'''\n",
    "32\n",
    "# subtract mean value from each feature\n",
    "33\n",
    "print a-xmean\n",
    "34\n",
    "xnorm= (a-xmean)/xstd\n",
    "35\n",
    "print xnorm\n",
    "36\n",
    "​\n",
    "37\n",
    "'''1f'''\n",
    "38\n",
    "​\n",
    "39\n",
    "plt.scatter(xnorm[:,0],xnorm[:,1], c=Y)\n",
    "40\n",
    "plt.gray()\n",
    "41\n",
    "plt.show()\n",
    "42\n",
    "​\n",
    "43\n",
    "plt.scatter(xnorm[:,0],xnorm[:,2], c=Y)\n",
    "44\n",
    "plt.gray()\n",
    "45\n",
    "plt.show()\n",
    "46\n",
    "​\n",
    "47\n",
    "plt.scatter(xnorm[:,0],xnorm[:,3], c=Y)\n",
    "48\n",
    "plt.gray()\n",
    "49\n",
    "plt.show()\n",
    "50\n",
    "​\n"
   ]
  },
  {
   "cell_type": "code",
   "execution_count": null,
   "metadata": {
    "collapsed": true
   },
   "outputs": [],
   "source": []
  },
  {
   "cell_type": "code",
   "execution_count": null,
   "metadata": {
    "collapsed": true
   },
   "outputs": [],
   "source": []
  }
 ],
 "metadata": {
  "kernelspec": {
   "display_name": "Python 2",
   "language": "python",
   "name": "python2"
  },
  "language_info": {
   "codemirror_mode": {
    "name": "ipython",
    "version": 2
   },
   "file_extension": ".py",
   "mimetype": "text/x-python",
   "name": "python",
   "nbconvert_exporter": "python",
   "pygments_lexer": "ipython2",
   "version": "2.7.12"
  }
 },
 "nbformat": 4,
 "nbformat_minor": 1
}
